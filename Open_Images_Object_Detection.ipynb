{
  "nbformat": 4,
  "nbformat_minor": 0,
  "metadata": {
    "colab": {
      "name": "Open Images - Object Detection.ipynb",
      "provenance": [],
      "collapsed_sections": [],
      "include_colab_link": true
    },
    "kernelspec": {
      "name": "python3",
      "display_name": "Python 3"
    },
    "language_info": {
      "name": "python"
    },
    "accelerator": "GPU"
  },
  "cells": [
    {
      "cell_type": "markdown",
      "metadata": {
        "id": "view-in-github",
        "colab_type": "text"
      },
      "source": [
        "<a href=\"https://colab.research.google.com/github/darshil8008/Open-Images-Object-Detection/blob/main/Open_Images_Object_Detection.ipynb\" target=\"_parent\"><img src=\"https://colab.research.google.com/assets/colab-badge.svg\" alt=\"Open In Colab\"/></a>"
      ]
    },
    {
      "cell_type": "markdown",
      "source": [
        "# Getting connected to google drive to use files"
      ],
      "metadata": {
        "id": "KaAoE3To_xn7"
      }
    },
    {
      "cell_type": "code",
      "source": [
        "!pip install -U -q PyDrive\n",
        "from pydrive.auth import GoogleAuth\n",
        "from pydrive.drive import GoogleDrive\n",
        "from google.colab import auth\n",
        "from oauth2client.client import GoogleCredentials"
      ],
      "metadata": {
        "id": "YiGcBjOuUu5J"
      },
      "execution_count": null,
      "outputs": []
    },
    {
      "cell_type": "code",
      "source": [
        "auth.authenticate_user()\n",
        "gauth = GoogleAuth()\n",
        "gauth.credentials = GoogleCredentials.get_application_default()\n",
        "drive = GoogleDrive(gauth)"
      ],
      "metadata": {
        "id": "P_ED74kHUzI2"
      },
      "execution_count": null,
      "outputs": []
    },
    {
      "cell_type": "markdown",
      "source": [
        "# Loading the required files"
      ],
      "metadata": {
        "id": "54MiT8vh9JHw"
      }
    },
    {
      "cell_type": "code",
      "source": [
        "downloaded = drive.CreateFile({'id':'1IcGzU91IMnErn6N4Kw6v0KlknKin7roJ'}) \n",
        "downloaded.GetContentFile('coco.names') "
      ],
      "metadata": {
        "id": "x4Z8Bh6lU31O"
      },
      "execution_count": null,
      "outputs": []
    },
    {
      "cell_type": "code",
      "source": [
        "downloaded = drive.CreateFile({'id':'1Nutx3_2-w5wl7GWc_ay37dFUigaCoy5M'}) \n",
        "downloaded.GetContentFile('yolov3.weights')"
      ],
      "metadata": {
        "id": "vADdJO6WJuwd"
      },
      "execution_count": null,
      "outputs": []
    },
    {
      "cell_type": "code",
      "source": [
        "downloaded = drive.CreateFile({'id':'1eRpkNtcKWhSwwygP1Wyr4Hmhk1R6lpQT'}) \n",
        "downloaded.GetContentFile('city.jpg')"
      ],
      "metadata": {
        "id": "oNM0z_H_6nvX"
      },
      "execution_count": null,
      "outputs": []
    },
    {
      "cell_type": "code",
      "source": [
        "downloaded = drive.CreateFile({'id':'14WKJSVkptZocSenMeTkMfnovZEWr27X2'}) \n",
        "downloaded.GetContentFile('kite.jpg')"
      ],
      "metadata": {
        "id": "TapbrM1S9fXY"
      },
      "execution_count": null,
      "outputs": []
    },
    {
      "cell_type": "code",
      "source": [
        "downloaded = drive.CreateFile({'id':'14BgkxqVCxevC0L-UCUalsZlThgTIxLbc'}) \n",
        "downloaded.GetContentFile('passport_photo.jpg')"
      ],
      "metadata": {
        "id": "SkFEI3Ki-G4T"
      },
      "execution_count": null,
      "outputs": []
    },
    {
      "cell_type": "markdown",
      "source": [
        "# import the required libraries\n"
      ],
      "metadata": {
        "id": "Qk5MKNy99cm2"
      }
    },
    {
      "cell_type": "code",
      "source": [
        "import cv2\n",
        "import matplotlib.pyplot as plt\n",
        "import numpy as np"
      ],
      "metadata": {
        "id": "1c7YklAyV-Ed"
      },
      "execution_count": null,
      "outputs": []
    },
    {
      "cell_type": "markdown",
      "source": [
        "# load weights and cfg files"
      ],
      "metadata": {
        "id": "223aFDvl-HgT"
      }
    },
    {
      "cell_type": "code",
      "source": [
        "yolo = cv2.dnn.readNet(\"/content/yolov3.weights\", \"/content/yolov3.cfg\")"
      ],
      "metadata": {
        "id": "Q6qvru_QWXBc",
        "colab": {
          "base_uri": "https://localhost:8080/",
          "height": 187
        },
        "outputId": "674159fd-d2dc-484b-84d0-47ef000798be"
      },
      "execution_count": null,
      "outputs": [
        {
          "output_type": "error",
          "ename": "error",
          "evalue": "ignored",
          "traceback": [
            "\u001b[0;31m---------------------------------------------------------------------------\u001b[0m",
            "\u001b[0;31merror\u001b[0m                                     Traceback (most recent call last)",
            "\u001b[0;32m<ipython-input-9-9359f899b4a0>\u001b[0m in \u001b[0;36m<module>\u001b[0;34m()\u001b[0m\n\u001b[0;32m----> 1\u001b[0;31m \u001b[0myolo\u001b[0m \u001b[0;34m=\u001b[0m \u001b[0mcv2\u001b[0m\u001b[0;34m.\u001b[0m\u001b[0mdnn\u001b[0m\u001b[0;34m.\u001b[0m\u001b[0mreadNet\u001b[0m\u001b[0;34m(\u001b[0m\u001b[0;34m\"/content/yolov3.weights\"\u001b[0m\u001b[0;34m,\u001b[0m \u001b[0;34m\"/content/yolov3.cfg\"\u001b[0m\u001b[0;34m)\u001b[0m\u001b[0;34m\u001b[0m\u001b[0;34m\u001b[0m\u001b[0m\n\u001b[0m",
            "\u001b[0;31merror\u001b[0m: OpenCV(4.1.2) /io/opencv/modules/dnn/src/darknet/darknet_importer.cpp:207: error: (-212:Parsing error) Failed to parse NetParameter file: /content/yolov3.cfg in function 'readNetFromDarknet'\n"
          ]
        }
      ]
    },
    {
      "cell_type": "markdown",
      "source": [
        "# load the coco.names folder"
      ],
      "metadata": {
        "id": "arTXmuaT-TqO"
      }
    },
    {
      "cell_type": "code",
      "source": [
        "classes = []\n",
        "\n",
        "with open(\"/content/coco.names\", \"r\") as f:\n",
        "  classes = f.read().splitlines()"
      ],
      "metadata": {
        "id": "Mim438LQqEQq"
      },
      "execution_count": null,
      "outputs": []
    },
    {
      "cell_type": "code",
      "source": [
        "classes"
      ],
      "metadata": {
        "colab": {
          "base_uri": "https://localhost:8080/"
        },
        "id": "2hLHs2QOvj52",
        "outputId": "89b4655d-fda6-4020-caa1-a43e57498ffe"
      },
      "execution_count": null,
      "outputs": [
        {
          "output_type": "execute_result",
          "data": {
            "text/plain": [
              "['person',\n",
              " 'bicycle',\n",
              " 'car',\n",
              " 'motorbike',\n",
              " 'aeroplane',\n",
              " 'bus',\n",
              " 'train',\n",
              " 'truck',\n",
              " 'boat',\n",
              " 'traffic light',\n",
              " 'fire hydrant',\n",
              " 'stop sign',\n",
              " 'parking meter',\n",
              " 'bench',\n",
              " 'bird',\n",
              " 'cat',\n",
              " 'dog',\n",
              " 'horse',\n",
              " 'sheep',\n",
              " 'cow',\n",
              " 'elephant',\n",
              " 'bear',\n",
              " 'zebra',\n",
              " 'giraffe',\n",
              " 'backpack',\n",
              " 'umbrella',\n",
              " 'handbag',\n",
              " 'tie',\n",
              " 'suitcase',\n",
              " 'frisbee',\n",
              " 'skis',\n",
              " 'snowboard',\n",
              " 'sports ball',\n",
              " 'kite',\n",
              " 'baseball bat',\n",
              " 'baseball glove',\n",
              " 'skateboard',\n",
              " 'surfboard',\n",
              " 'tennis racket',\n",
              " 'bottle',\n",
              " 'wine glass',\n",
              " 'cup',\n",
              " 'fork',\n",
              " 'knife',\n",
              " 'spoon',\n",
              " 'bowl',\n",
              " 'banana',\n",
              " 'apple',\n",
              " 'sandwich',\n",
              " 'orange',\n",
              " 'broccoli',\n",
              " 'carrot',\n",
              " 'hot dog',\n",
              " 'pizza',\n",
              " 'donut',\n",
              " 'cake',\n",
              " 'chair',\n",
              " 'sofa',\n",
              " 'pottedplant',\n",
              " 'bed',\n",
              " 'diningtable',\n",
              " 'toilet',\n",
              " 'tvmonitor',\n",
              " 'laptop',\n",
              " 'mouse',\n",
              " 'remote',\n",
              " 'keyboard',\n",
              " 'cell phone',\n",
              " 'microwave',\n",
              " 'oven',\n",
              " 'toaster',\n",
              " 'sink',\n",
              " 'refrigerator',\n",
              " 'book',\n",
              " 'clock',\n",
              " 'vase',\n",
              " 'scissors',\n",
              " 'teddy bear',\n",
              " 'hair drier',\n",
              " 'toothbrush']"
            ]
          },
          "metadata": {},
          "execution_count": 12
        }
      ]
    },
    {
      "cell_type": "code",
      "source": [
        "len(classes)"
      ],
      "metadata": {
        "colab": {
          "base_uri": "https://localhost:8080/"
        },
        "id": "UMDbI36MvskH",
        "outputId": "46b045a3-c438-48fe-f4ad-66e7febcee35"
      },
      "execution_count": null,
      "outputs": [
        {
          "output_type": "execute_result",
          "data": {
            "text/plain": [
              "80"
            ]
          },
          "metadata": {},
          "execution_count": 13
        }
      ]
    },
    {
      "cell_type": "markdown",
      "source": [
        "# load the image from which objects are to be detected"
      ],
      "metadata": {
        "id": "c6pdt23i-g1o"
      }
    },
    {
      "cell_type": "code",
      "source": [
        "img = cv2.imread(\"/content/passport_photo.jpg\")\n",
        "\n",
        "blob = cv2.dnn.blobFromImage(img, 1/255, (320, 320), (0, 0, 0), swapRB = True, crop = False)"
      ],
      "metadata": {
        "id": "bWJc0NkIvu9J"
      },
      "execution_count": null,
      "outputs": []
    },
    {
      "cell_type": "code",
      "source": [
        "blob.shape"
      ],
      "metadata": {
        "colab": {
          "base_uri": "https://localhost:8080/"
        },
        "id": "cMj51iNVw24r",
        "outputId": "a4402f6d-6d93-4210-f5a1-1c95c90a28a1"
      },
      "execution_count": null,
      "outputs": [
        {
          "output_type": "execute_result",
          "data": {
            "text/plain": [
              "(1, 3, 320, 320)"
            ]
          },
          "metadata": {},
          "execution_count": 15
        }
      ]
    },
    {
      "cell_type": "markdown",
      "source": [
        "# Set the blob as an input image and also define the output layer"
      ],
      "metadata": {
        "id": "w9yxNch5-wVQ"
      }
    },
    {
      "cell_type": "code",
      "source": [
        "yolo.setInput(blob)"
      ],
      "metadata": {
        "id": "Xv1IWGv4yyTe"
      },
      "execution_count": null,
      "outputs": []
    },
    {
      "cell_type": "code",
      "source": [
        "output_layer_name = yolo.getUnconnectedOutLayersNames()\n",
        "\n",
        "layeroutput = yolo.forward(output_layer_name)"
      ],
      "metadata": {
        "id": "3FcyhazdzDSD"
      },
      "execution_count": null,
      "outputs": []
    },
    {
      "cell_type": "markdown",
      "source": [
        "# Find where the bounding boxes in the image are"
      ],
      "metadata": {
        "id": "64_59J2o-62P"
      }
    },
    {
      "cell_type": "code",
      "source": [
        "boxes = []\n",
        "confidences = []\n",
        "class_ids = []\n",
        "width = 320\n",
        "height = 320\n",
        "\n",
        "for output in layeroutput:\n",
        "  for detection in output:\n",
        "    score = detection[5:]\n",
        "    class_id = np.argmax(score)\n",
        "    confidence = score[class_id]\n",
        "    if confidence > 0.7:\n",
        "      center_x = int(detection[0]*width)\n",
        "      center_y = int(detection[0]*height)\n",
        "      w = int(detection[0]*width)\n",
        "      h = int(detection[0]*height)\n",
        "\n",
        "      x = int(center_x- w/2)\n",
        "      y = int(center_y- h/2)\n",
        "\n",
        "      boxes.append([x, y, w, h])\n",
        "      confidences.append(float(confidence))\n",
        "      class_ids.append(class_id)\n"
      ],
      "metadata": {
        "id": "R7D7JfLszqEv"
      },
      "execution_count": null,
      "outputs": []
    },
    {
      "cell_type": "markdown",
      "source": [
        "# See how many numbers of bounding boxes are there"
      ],
      "metadata": {
        "id": "mz2EXYMd_DS6"
      }
    },
    {
      "cell_type": "code",
      "source": [
        "len(boxes)"
      ],
      "metadata": {
        "colab": {
          "base_uri": "https://localhost:8080/"
        },
        "id": "Dpc4vqVC2h-R",
        "outputId": "f9c7ae9b-5961-497b-bc8f-f17a1d33f9e6"
      },
      "execution_count": null,
      "outputs": [
        {
          "output_type": "execute_result",
          "data": {
            "text/plain": [
              "2"
            ]
          },
          "metadata": {},
          "execution_count": 19
        }
      ]
    },
    {
      "cell_type": "markdown",
      "source": [
        "# Add this bounding boxes to the image."
      ],
      "metadata": {
        "id": "CUJXoo7e_LPt"
      }
    },
    {
      "cell_type": "code",
      "source": [
        "indexes = cv2.dnn.NMSBoxes(boxes, confidences, 0.5, 0.4)"
      ],
      "metadata": {
        "id": "OIpGrlsp2sBJ"
      },
      "execution_count": null,
      "outputs": []
    },
    {
      "cell_type": "code",
      "source": [
        "font = cv2.FONT_HERSHEY_PLAIN\n",
        "colors = np.random.uniform(0, 255, size = (len(boxes), 3))\n"
      ],
      "metadata": {
        "id": "WpnFOOJ13jal"
      },
      "execution_count": null,
      "outputs": []
    },
    {
      "cell_type": "markdown",
      "source": [
        "# Take each and every object over there and add bounding boxes to these"
      ],
      "metadata": {
        "id": "AuMOePV1_VHl"
      }
    },
    {
      "cell_type": "code",
      "source": [
        "if len(indexes) > 0:\n",
        "  for i in indexes.flatten():\n",
        "    x, y, w, h = boxes[i]\n",
        "\n",
        "    label = str(classes[class_ids[i]])\n",
        "    confi = str(round(confidences[i], 2))\n",
        "    color = colors[i]\n",
        "\n",
        "    cv2.rectangle(img, (x, y), (x+w, y+h), color, 1)\n",
        "    cv2.putText(img, label + confi, (x, y+20), font, 2, (255, 255, 255), 4)\n"
      ],
      "metadata": {
        "id": "F315bJ-m4GyC"
      },
      "execution_count": null,
      "outputs": []
    },
    {
      "cell_type": "markdown",
      "source": [
        "# See the model. (Show the model)"
      ],
      "metadata": {
        "id": "EY5mbWJs_aWs"
      }
    },
    {
      "cell_type": "code",
      "source": [
        "plt.imshow(img)"
      ],
      "metadata": {
        "colab": {
          "base_uri": "https://localhost:8080/",
          "height": 287
        },
        "id": "icAmrszN6Y8w",
        "outputId": "95b0fb1f-6a06-40cc-bc33-f3bacfb4ba5d"
      },
      "execution_count": null,
      "outputs": [
        {
          "output_type": "execute_result",
          "data": {
            "text/plain": [
              "<matplotlib.image.AxesImage at 0x7fd6966720d0>"
            ]
          },
          "metadata": {},
          "execution_count": 23
        },
        {
          "output_type": "display_data",
          "data": {
            "text/plain": [
              "<Figure size 432x288 with 1 Axes>"
            ],
            "image/png": "[encoded data removed]"
          },
          "metadata": {
            "needs_background": "light"
          }
        }
      ]
    },
    {
      "cell_type": "markdown",
      "source": [
        "# Save the image to see properly"
      ],
      "metadata": {
        "id": "xDp8l4B3_fnK"
      }
    },
    {
      "cell_type": "code",
      "source": [
        "cv2.imwrite(\"./result.jpg\", img)"
      ],
      "metadata": {
        "colab": {
          "base_uri": "https://localhost:8080/"
        },
        "id": "AXhX6v7Gy7HC",
        "outputId": "83d690e1-44b2-4b4e-b088-d129ac227a2c"
      },
      "execution_count": null,
      "outputs": [
        {
          "output_type": "execute_result",
          "data": {
            "text/plain": [
              "True"
            ]
          },
          "metadata": {},
          "execution_count": 24
        }
      ]
    }
  ]
}